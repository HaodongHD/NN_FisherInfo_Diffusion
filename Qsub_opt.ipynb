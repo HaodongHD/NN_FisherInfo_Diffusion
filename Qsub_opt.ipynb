{
 "cells": [
  {
   "cell_type": "code",
   "execution_count": 2,
   "metadata": {},
   "outputs": [],
   "source": [
    "import sys, os, socket, glob, re\n",
    "\n",
    "import pandas as pd\n",
    "import numpy as np\n",
    "%matplotlib inline\n",
    "import itertools\n",
    "\n"
   ]
  },
  {
   "cell_type": "markdown",
   "metadata": {
    "heading_collapsed": true,
    "jp-MarkdownHeadingCollapsed": true,
    "tags": []
   },
   "source": [
    "## Info dist with bias correction"
   ]
  },
  {
   "cell_type": "markdown",
   "metadata": {},
   "source": [
    "example:\n",
    "qsub -t 1 -l h=node09 -cwd -o qsub_output01 -e qsub_output01 baysHMDS.sh NN_singlePopulation_50_1 3 full Euc"
   ]
  },
  {
   "cell_type": "code",
   "execution_count": 3,
   "metadata": {},
   "outputs": [
    {
     "name": "stdout",
     "output_type": "stream",
     "text": [
      "/Users/haodongqin/Desktop/Neuro_fisher 2/Neuro_fisher_python meanField_corrected_fisher_whole_region_2population_V2\n"
     ]
    }
   ],
   "source": [
    "curr_directory = os.getcwd()\n",
    "print(curr_directory)"
   ]
  },
  {
   "cell_type": "code",
   "execution_count": 5,
   "metadata": {},
   "outputs": [
    {
     "name": "stdout",
     "output_type": "stream",
     "text": [
      "[ 0  3  6  9 12 15 18]\n",
      "7\n",
      "7\n"
     ]
    }
   ],
   "source": [
    "# file_list = glob.glob('Liver_264_dim776_CvStand*')\n",
    "# print('Number of files:', len(file_list))\n",
    "# print(file_list)\n",
    "\n",
    "dim_list = np.array(np.arange(0,19,3))\n",
    "print(dim_list)\n",
    "\n",
    "print(dim_list.size)\n",
    "\n",
    "\n",
    "\n",
    "Nodelist = ['01','02','03','04','06','07','08']\n",
    "\n",
    "print(len(Nodelist))\n"
   ]
  },
  {
   "cell_type": "code",
   "execution_count": 6,
   "metadata": {},
   "outputs": [],
   "source": [
    "sh_file = open('sub_multi_popu_opt.sh', 'w')\n",
    "\n",
    "\n",
    "for i, dim in enumerate(dim_list):\n",
    "    NodeID = Nodelist[i]\n",
    "    command = 'Optimization_initial_final.sh %d %d' % (dim, dim+6)      \n",
    "    sh_file.write('qsub -t 1 -l h=node%s -cwd -o qsub_output%s -e qsub_output%s %s\\n' % (NodeID, str(i), str(i), command)) \n",
    "\n",
    "\n",
    "\n",
    "\n",
    "sh_file.close()"
   ]
  },
  {
   "cell_type": "code",
   "execution_count": null,
   "metadata": {},
   "outputs": [],
   "source": []
  }
 ],
 "metadata": {
  "kernelspec": {
   "display_name": "Python 3.9.7 ('base')",
   "language": "python",
   "name": "python3"
  },
  "language_info": {
   "codemirror_mode": {
    "name": "ipython",
    "version": 3
   },
   "file_extension": ".py",
   "mimetype": "text/x-python",
   "name": "python",
   "nbconvert_exporter": "python",
   "pygments_lexer": "ipython3",
   "version": "3.9.7"
  },
  "orig_nbformat": 4,
  "vscode": {
   "interpreter": {
    "hash": "29b0920499b0c8bb7cf3bb6fd9ab7a0e1eb3bd4ecaa5a279e30c2b56b95af1d5"
   }
  }
 },
 "nbformat": 4,
 "nbformat_minor": 2
}
